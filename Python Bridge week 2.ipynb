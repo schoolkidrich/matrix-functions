{
 "cells": [
  {
   "cell_type": "code",
   "execution_count": 28,
   "metadata": {},
   "outputs": [
    {
     "data": {
      "text/plain": [
       "[[9, 12, 15], [19, 26, 33], [29, 40, 51], [39, 54, 69]]"
      ]
     },
     "execution_count": 28,
     "metadata": {},
     "output_type": "execute_result"
    }
   ],
   "source": [
    "def multiply_matrix(m1,m2):\n",
    "    if len(m1[0]) != len(m2):\n",
    "        return \"not possible\"    \n",
    "    else:\n",
    "        matrix = []\n",
    "        for i in range(len(m1)):\n",
    "            numbers = []\n",
    "            for j in range(len(m2[0])):\n",
    "                num = 0\n",
    "                for k in range(len(m1[0])):\n",
    "                    num += m1[i][k]*m2[k][j]\n",
    "                numbers.append(num)\n",
    "            matrix.append(numbers)\n",
    "        return matrix\n",
    "\n",
    "m1 = [[1,2],[3,4],[5,6],[7,8]]\n",
    "m2 = [[1,2,3],[4,5,6]]\n",
    "multiply_matrix(m1,m2)                    "
   ]
  },
  {
   "cell_type": "code",
   "execution_count": 69,
   "metadata": {
    "scrolled": true
   },
   "outputs": [
    {
     "data": {
      "text/plain": [
       "-4"
      ]
     },
     "execution_count": 69,
     "metadata": {},
     "output_type": "execute_result"
    }
   ],
   "source": [
    "def det(matrix):\n",
    "    dim = len(matrix)\n",
    "    dim2 = len(matrix[0])\n",
    "    if dim == dim2:\n",
    "        if dim == 1:\n",
    "            det_m = matrix[0][0]\n",
    "        else:\n",
    "            det_m = 0\n",
    "            for i in range(dim):\n",
    "                sub = matrix.copy()\n",
    "                submatrix = []\n",
    "                for j in range(dim):\n",
    "                    sub_j = sub[j].copy()\n",
    "                    sub_j.pop(i)\n",
    "                    submatrix.append(sub_j)\n",
    "                submatrix = submatrix[1:]\n",
    "                if i%2 == 0:\n",
    "                    det_m += matrix[0][i]*det(submatrix)\n",
    "                else:\n",
    "                    det_m -= matrix[0][i]*det(submatrix)\n",
    "    else:\n",
    "        print(\"Matrix is not NxN\")\n",
    "    return det_m      \n",
    "                \n",
    "matrix = [[1,3,1,4],[3,9,5,15],[0,2,1,1],[0,4,2,3]]        \n",
    "det(matrix)    "
   ]
  },
  {
   "cell_type": "code",
   "execution_count": null,
   "metadata": {},
   "outputs": [],
   "source": []
  }
 ],
 "metadata": {
  "kernelspec": {
   "display_name": "Python 3",
   "language": "python",
   "name": "python3"
  },
  "language_info": {
   "codemirror_mode": {
    "name": "ipython",
    "version": 3
   },
   "file_extension": ".py",
   "mimetype": "text/x-python",
   "name": "python",
   "nbconvert_exporter": "python",
   "pygments_lexer": "ipython3",
   "version": "3.8.5"
  }
 },
 "nbformat": 4,
 "nbformat_minor": 4
}
