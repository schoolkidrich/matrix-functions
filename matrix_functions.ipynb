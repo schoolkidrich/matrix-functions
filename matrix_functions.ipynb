{
 "cells": [
  {
   "cell_type": "code",
   "execution_count": 1,
   "metadata": {},
   "outputs": [],
   "source": [
    "def multiply_matrix(m1,m2):\n",
    "#input two matrices -> output solution if possible\n",
    "    if len(m1[0]) != len(m2):\n",
    "        return \"not possible\"    \n",
    "    else:\n",
    "        matrix = []\n",
    "        for i in range(len(m1)):\n",
    "            numbers = []\n",
    "            for j in range(len(m2[0])):\n",
    "                num = 0\n",
    "                for k in range(len(m1[0])):\n",
    "                    num += m1[i][k]*m2[k][j]\n",
    "                numbers.append(num)\n",
    "            matrix.append(numbers)\n",
    "        return matrix                  "
   ]
  },
  {
   "cell_type": "code",
   "execution_count": 7,
   "metadata": {
    "scrolled": true
   },
   "outputs": [],
   "source": [
    "def det(matrix):\n",
    "    #input NxN matrix -> outputs determinant \n",
    "    dim = len(matrix)\n",
    "    if dim == 1:\n",
    "        det_m=matrix[0][0]\n",
    "    else:\n",
    "        det_m = 0\n",
    "        for i in range(dim):\n",
    "            submatrix = [row[:i]+row[i+1:] for row in matrix[1:]]\n",
    "            if i%2 == 0:\n",
    "                det_m += matrix[0][i]*det(submatrix)\n",
    "            else:\n",
    "                det_m -= matrix[0][i]*det(submatrix)\n",
    "    return det_m\n",
    "        \n",
    "        \n",
    "        \n",
    "\n",
    "def minor(matrix):\n",
    "    #input NxN matrix -> outputs matrix of minors\n",
    "    minor_matrix = []\n",
    "    dim = len(matrix)\n",
    "    for i in range(dim):\n",
    "        minor_rows = []\n",
    "        for j in range(dim):\n",
    "            matrix_i = matrix[:i]+matrix[i+1:]\n",
    "            submatrix = []\n",
    "            for row in matrix_i:\n",
    "                submatrix.append(row[:j]+row[j+1:])\n",
    "            minor_rows.append(det(submatrix))\n",
    "        minor_matrix.append(minor_rows)\n",
    "    return minor_matrix\n",
    "minor(matrix)\n",
    "\n",
    "def cofactor(matrix):\n",
    "    #input NxN matrix -> outputs cofactor matrix\n",
    "    dim = len(matrix)\n",
    "    minor_m = minor(matrix)\n",
    "    for i in range(dim):\n",
    "        for j in range(dim):\n",
    "            if (i+j) % 2 ==0:\n",
    "                minor_m[i][j] *= 1\n",
    "            else:\n",
    "                minor_m[i][j] *= -1\n",
    "    return minor_m\n",
    "\n",
    "def transpose(matrix):\n",
    "    #input matrix -> outputs transpose of matrix\n",
    "    dim1 = len(matrix)\n",
    "    dim2 = len(matrix[0])\n",
    "    matrix_t = []\n",
    "    for j in range(dim2):\n",
    "        row = []\n",
    "        for i in range(dim1):\n",
    "            row.append(matrix[i][j])\n",
    "        matrix_t.append(row)\n",
    "    return matrix_t\n",
    "\n",
    "def inverse(matrix):\n",
    "    #input NxN matrix -> Outputs inverse if possible\n",
    "    det_m = det(matrix)\n",
    "    dim = len(matrix)\n",
    "    if det_m == 0:\n",
    "        print(\"Matrix is Singular\")\n",
    "    else:\n",
    "        inverse_m = transpose(cofactor(matrix))\n",
    "        for i in range(dim):\n",
    "            for j in range(dim):\n",
    "                inverse_m[i][j] /= det_m\n",
    "    return inverse_m"
   ]
  },
  {
   "cell_type": "code",
   "execution_count": 8,
   "metadata": {},
   "outputs": [
    {
     "data": {
      "text/plain": [
       "17"
      ]
     },
     "execution_count": 8,
     "metadata": {},
     "output_type": "execute_result"
    }
   ],
   "source": [
    "matrix = [[1,3,2],[4,1,3],[2,5,2]]\n",
    "det(matrix)"
   ]
  },
  {
   "cell_type": "code",
   "execution_count": 9,
   "metadata": {},
   "outputs": [
    {
     "data": {
      "text/plain": [
       "[[-0.7647058823529411, 0.23529411764705882, 0.4117647058823529],\n",
       " [-0.11764705882352941, -0.11764705882352941, 0.29411764705882354],\n",
       " [1.0588235294117647, 0.058823529411764705, -0.6470588235294118]]"
      ]
     },
     "execution_count": 9,
     "metadata": {},
     "output_type": "execute_result"
    }
   ],
   "source": [
    "#example\n",
    "matrix = [[1,3,2],[4,1,3],[2,5,2]]\n",
    "inverse(matrix)"
   ]
  },
  {
   "cell_type": "code",
   "execution_count": 10,
   "metadata": {},
   "outputs": [
    {
     "data": {
      "text/plain": [
       "[[1.0, 0.0, 0.0],\n",
       " [0.0, 1.0, 1.1102230246251565e-16],\n",
       " [0.0, 0.0, 0.9999999999999998]]"
      ]
     },
     "execution_count": 10,
     "metadata": {},
     "output_type": "execute_result"
    }
   ],
   "source": [
    "#check\n",
    "multiply_matrix(inverse(matrix),matrix)"
   ]
  }
 ],
 "metadata": {
  "kernelspec": {
   "display_name": "Python 3",
   "language": "python",
   "name": "python3"
  },
  "language_info": {
   "codemirror_mode": {
    "name": "ipython",
    "version": 3
   },
   "file_extension": ".py",
   "mimetype": "text/x-python",
   "name": "python",
   "nbconvert_exporter": "python",
   "pygments_lexer": "ipython3",
   "version": "3.8.5"
  }
 },
 "nbformat": 4,
 "nbformat_minor": 4
}
